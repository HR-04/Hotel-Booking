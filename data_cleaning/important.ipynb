{
 "cells": [
  {
   "cell_type": "code",
   "execution_count": 1,
   "metadata": {},
   "outputs": [],
   "source": [
    "import numpy as np\n",
    "import pandas as pd"
   ]
  },
  {
   "cell_type": "code",
   "execution_count": null,
   "metadata": {},
   "outputs": [
    {
     "name": "stdout",
     "output_type": "stream",
     "text": [
      "Initial dataset shape: (5000, 10)\n"
     ]
    }
   ],
   "source": [
    "\n",
    "file_path = r\"F:\\Hotel Booking\\hotel_bookings_sampled_5k.csv\" \n",
    "df = pd.read_csv(file_path)\n",
    "print(\"Initial dataset shape:\", df.shape)"
   ]
  },
  {
   "cell_type": "code",
   "execution_count": 3,
   "metadata": {},
   "outputs": [
    {
     "name": "stdout",
     "output_type": "stream",
     "text": [
      "Duplicates before removal: 34\n"
     ]
    }
   ],
   "source": [
    "print(\"Duplicates before removal:\", df.duplicated().sum())"
   ]
  },
  {
   "cell_type": "code",
   "execution_count": 4,
   "metadata": {},
   "outputs": [
    {
     "name": "stdout",
     "output_type": "stream",
     "text": [
      "Shape after deduplication: (4966, 10)\n"
     ]
    }
   ],
   "source": [
    "df.drop_duplicates(inplace=True)\n",
    "print(f\"Shape after deduplication: {df.shape}\")"
   ]
  },
  {
   "cell_type": "code",
   "execution_count": 6,
   "metadata": {},
   "outputs": [
    {
     "name": "stdout",
     "output_type": "stream",
     "text": [
      "hotel                                             [City Hotel, Resort Hotel]\n",
      "is_canceled                                                           [0, 1]\n",
      "lead_time                  [30, 142, 177, 224, 23, 272, 96, 85, 0, 42, 1,...\n",
      "arrival_date_year                                         [2016, 2015, 2017]\n",
      "arrival_date_month         [October, May, July, September, August, March,...\n",
      "adr                        [144.8, 113.05, 96.0, 114.9, 75.0, 90.1, 188.1...\n",
      "stays_in_week_nights                                   [4, 3, 1, 2, 0, 5, 6]\n",
      "stays_in_weekend_nights                                      [0, 1, 2, 3, 4]\n",
      "country                    [BRA, AUT, ITA, GBR, FRA, DEU, BEL, PRT, NLD, ...\n",
      "revenue                    [579.2, 452.2, 192.0, 689.4000000000001, 225.0...\n",
      "dtype: object\n"
     ]
    }
   ],
   "source": [
    "unique_cols = pd.Series({col: df[col].unique() for col in df.columns})\n",
    "print(unique_cols)"
   ]
  },
  {
   "cell_type": "code",
   "execution_count": null,
   "metadata": {},
   "outputs": [
    {
     "name": "stdout",
     "output_type": "stream",
     "text": [
      "Columns in df_structured: ['hotel', 'is_canceled', 'lead_time', 'arrival_date_year', 'arrival_date_month', 'adr', 'stays_in_week_nights', 'stays_in_weekend_nights', 'country']\n"
     ]
    }
   ],
   "source": [
    "cols_to_keep = [\n",
    "    'hotel', \n",
    "    'is_canceled', \n",
    "    'lead_time', \n",
    "    'arrival_date_year', \n",
    "    'arrival_date_month', \n",
    "    'adr', \n",
    "    'stays_in_week_nights', \n",
    "    'stays_in_weekend_nights', \n",
    "    'country'\n",
    "]\n",
    "df_structured = df[cols_to_keep].copy()\n",
    "print(\"Columns in df_structured:\", df_structured.columns.tolist())"
   ]
  },
  {
   "cell_type": "code",
   "execution_count": null,
   "metadata": {},
   "outputs": [],
   "source": [
    "# Data Cleaning: Handle missing values\n",
    "for col in df_structured.columns:\n",
    "    missing = df_structured[col].isnull().sum()\n",
    "    if missing > 0:\n",
    "        if df_structured[col].dtype in [np.int64, np.float64]:\n",
    "            df_structured[col].fillna(df_structured[col].mean(), inplace=True)\n",
    "            print(f\"Filled {missing} missing values in numeric column '{col}' with mean.\")\n",
    "        else:\n",
    "            df_structured[col].fillna(df_structured[col].mode()[0], inplace=True)\n",
    "            print(f\"Filled {missing} missing values in categorical column '{col}' with mode.\")\n"
   ]
  },
  {
   "cell_type": "code",
   "execution_count": null,
   "metadata": {},
   "outputs": [
    {
     "name": "stdout",
     "output_type": "stream",
     "text": [
      "Removed 58 outlier rows from 'lead_time'.\n",
      "Removed 50 outlier rows from 'adr'.\n",
      "Removed 0 outlier rows from 'stays_in_week_nights'.\n",
      "Removed 0 outlier rows from 'stays_in_weekend_nights'.\n",
      "Duplicates remaining: 0\n",
      "Missing values per column:\n",
      " hotel                      0\n",
      "is_canceled                0\n",
      "lead_time                  0\n",
      "arrival_date_year          0\n",
      "arrival_date_month         0\n",
      "adr                        0\n",
      "stays_in_week_nights       0\n",
      "stays_in_weekend_nights    0\n",
      "country                    0\n",
      "dtype: int64\n"
     ]
    }
   ],
   "source": [
    "numeric_cols = ['lead_time', 'adr', 'stays_in_week_nights', 'stays_in_weekend_nights']\n",
    "for col in numeric_cols:\n",
    "    Q1 = df_structured[col].quantile(0.25)\n",
    "    Q3 = df_structured[col].quantile(0.75)\n",
    "    IQR = Q3 - Q1\n",
    "    lower_bound = Q1 - 1.5 * IQR\n",
    "    upper_bound = Q3 + 1.5 * IQR\n",
    "    before_rows = df_structured.shape[0]\n",
    "    df_structured = df_structured[(df_structured[col] >= lower_bound) & (df_structured[col] <= upper_bound)]\n",
    "    after_rows = df_structured.shape[0]\n",
    "    print(f\"Removed {before_rows - after_rows} outlier rows from '{col}'.\")\n",
    "\n",
    "print(\"Duplicates remaining:\", df_structured.duplicated().sum())\n",
    "print(\"Missing values per column:\\n\", df_structured.isnull().sum())"
   ]
  },
  {
   "cell_type": "code",
   "execution_count": null,
   "metadata": {},
   "outputs": [
    {
     "name": "stdout",
     "output_type": "stream",
     "text": [
      "Cleaned dataset saved to hotel_bookings_cleaned11.csv\n",
      "         hotel  is_canceled  lead_time  arrival_date_year arrival_date_month  \\\n",
      "0   City Hotel            0         30               2016            October   \n",
      "1   City Hotel            0        142               2016                May   \n",
      "2   City Hotel            0        177               2016               July   \n",
      "3   City Hotel            0        224               2016          September   \n",
      "4   City Hotel            0         23               2015            October   \n",
      "6   City Hotel            0         96               2016               July   \n",
      "7   City Hotel            0         85               2016             August   \n",
      "8   City Hotel            0          0               2015          September   \n",
      "9   City Hotel            0         42               2016              March   \n",
      "10  City Hotel            0          1               2017               June   \n",
      "\n",
      "       adr  stays_in_week_nights  stays_in_weekend_nights country  revenue  \n",
      "0   144.80                     4                        0     BRA    579.2  \n",
      "1   113.05                     3                        1     AUT    452.2  \n",
      "2    96.00                     1                        1     ITA    192.0  \n",
      "3   114.90                     4                        2     GBR    689.4  \n",
      "4    75.00                     3                        0     FRA    225.0  \n",
      "6   188.16                     3                        2     BRA    940.8  \n",
      "7   116.10                     3                        1     BEL    464.4  \n",
      "8   190.00                     1                        0     PRT    190.0  \n",
      "9   114.30                     1                        1     NLD    228.6  \n",
      "10  100.00                     3                        1     VEN    400.0  \n"
     ]
    }
   ],
   "source": [
    "df_structured['revenue'] = df_structured['adr'] * (\n",
    "    df_structured['stays_in_week_nights'] + df_structured['stays_in_weekend_nights']\n",
    ")\n",
    "\n",
    "output_path = \"hotel_bookings_cleaned11.csv\"\n",
    "df_structured.to_csv(output_path, index=False)\n",
    "print(f\"Cleaned dataset saved to {output_path}\")\n",
    "\n",
    "print(df_structured.head(10))"
   ]
  },
  {
   "cell_type": "code",
   "execution_count": null,
   "metadata": {},
   "outputs": [
    {
     "name": "stdout",
     "output_type": "stream",
     "text": [
      "Revenue Trends Over Time:\n",
      "    arrival_date_year arrival_date_month  total_revenue\n",
      "0                2015             August       71000.89\n",
      "1                2015           December       22602.48\n",
      "2                2015               July       46013.64\n",
      "3                2015           November       16886.81\n",
      "4                2015            October       37430.84\n",
      "5                2015          September       61028.39\n",
      "6                2016              April       63468.01\n",
      "7                2016             August      104892.77\n",
      "8                2016           December       45991.04\n",
      "9                2016           February       29562.98\n",
      "10               2016            January       13214.41\n",
      "11               2016               July       91493.50\n",
      "12               2016               June       80070.57\n",
      "13               2016              March       63701.30\n",
      "14               2016                May       58682.90\n",
      "15               2016           November       45328.71\n",
      "16               2016            October       75871.52\n",
      "17               2016          September       84988.01\n",
      "18               2017              April       87142.07\n",
      "19               2017             August       94901.25\n",
      "20               2017           February       46800.97\n",
      "21               2017            January       32640.83\n",
      "22               2017               July      103126.35\n",
      "23               2017               June       94499.06\n",
      "24               2017              March       70692.50\n",
      "25               2017                May      111878.26\n"
     ]
    }
   ],
   "source": [
    "df_revenue = df_structured.groupby(\n",
    "    [\"arrival_date_year\", \"arrival_date_month\"]\n",
    ")['revenue'].sum().reset_index().rename(columns={'revenue': 'total_revenue'})\n",
    "\n",
    "\n",
    "print(\"Revenue Trends Over Time:\")\n",
    "print(df_revenue)"
   ]
  },
  {
   "cell_type": "code",
   "execution_count": 26,
   "metadata": {},
   "outputs": [
    {
     "data": {
      "text/html": [
       "<div>\n",
       "<style scoped>\n",
       "    .dataframe tbody tr th:only-of-type {\n",
       "        vertical-align: middle;\n",
       "    }\n",
       "\n",
       "    .dataframe tbody tr th {\n",
       "        vertical-align: top;\n",
       "    }\n",
       "\n",
       "    .dataframe thead th {\n",
       "        text-align: right;\n",
       "    }\n",
       "</style>\n",
       "<table border=\"1\" class=\"dataframe\">\n",
       "  <thead>\n",
       "    <tr style=\"text-align: right;\">\n",
       "      <th></th>\n",
       "      <th>arrival_date_year</th>\n",
       "      <th>arrival_date_month</th>\n",
       "      <th>total_revenue</th>\n",
       "    </tr>\n",
       "  </thead>\n",
       "  <tbody>\n",
       "    <tr>\n",
       "      <th>0</th>\n",
       "      <td>2015</td>\n",
       "      <td>August</td>\n",
       "      <td>71000.89</td>\n",
       "    </tr>\n",
       "    <tr>\n",
       "      <th>1</th>\n",
       "      <td>2015</td>\n",
       "      <td>December</td>\n",
       "      <td>22602.48</td>\n",
       "    </tr>\n",
       "    <tr>\n",
       "      <th>2</th>\n",
       "      <td>2015</td>\n",
       "      <td>July</td>\n",
       "      <td>46013.64</td>\n",
       "    </tr>\n",
       "    <tr>\n",
       "      <th>3</th>\n",
       "      <td>2015</td>\n",
       "      <td>November</td>\n",
       "      <td>16886.81</td>\n",
       "    </tr>\n",
       "    <tr>\n",
       "      <th>4</th>\n",
       "      <td>2015</td>\n",
       "      <td>October</td>\n",
       "      <td>37430.84</td>\n",
       "    </tr>\n",
       "    <tr>\n",
       "      <th>5</th>\n",
       "      <td>2015</td>\n",
       "      <td>September</td>\n",
       "      <td>61028.39</td>\n",
       "    </tr>\n",
       "    <tr>\n",
       "      <th>6</th>\n",
       "      <td>2016</td>\n",
       "      <td>April</td>\n",
       "      <td>63468.01</td>\n",
       "    </tr>\n",
       "    <tr>\n",
       "      <th>7</th>\n",
       "      <td>2016</td>\n",
       "      <td>August</td>\n",
       "      <td>104892.77</td>\n",
       "    </tr>\n",
       "    <tr>\n",
       "      <th>8</th>\n",
       "      <td>2016</td>\n",
       "      <td>December</td>\n",
       "      <td>45991.04</td>\n",
       "    </tr>\n",
       "    <tr>\n",
       "      <th>9</th>\n",
       "      <td>2016</td>\n",
       "      <td>February</td>\n",
       "      <td>29562.98</td>\n",
       "    </tr>\n",
       "  </tbody>\n",
       "</table>\n",
       "</div>"
      ],
      "text/plain": [
       "   arrival_date_year arrival_date_month  total_revenue\n",
       "0               2015             August       71000.89\n",
       "1               2015           December       22602.48\n",
       "2               2015               July       46013.64\n",
       "3               2015           November       16886.81\n",
       "4               2015            October       37430.84\n",
       "5               2015          September       61028.39\n",
       "6               2016              April       63468.01\n",
       "7               2016             August      104892.77\n",
       "8               2016           December       45991.04\n",
       "9               2016           February       29562.98"
      ]
     },
     "execution_count": 26,
     "metadata": {},
     "output_type": "execute_result"
    }
   ],
   "source": [
    "df_revenue.head(10)"
   ]
  },
  {
   "cell_type": "code",
   "execution_count": null,
   "metadata": {},
   "outputs": [
    {
     "name": "stdout",
     "output_type": "stream",
     "text": [
      "\n",
      "Cancellation Rate (by Country, Year, Month):\n",
      "    arrival_date_year arrival_date_month  total_bookings  cancellations  \\\n",
      "0                2015             August             128             29   \n",
      "1                2015           December             111             17   \n",
      "2                2015               July             109             31   \n",
      "3                2015           November              89             10   \n",
      "4                2015            October             166             21   \n",
      "5                2015          September             178             44   \n",
      "6                2016              April             208             60   \n",
      "7                2016             August             201             69   \n",
      "8                2016           December             170             45   \n",
      "9                2016           February             168             32   \n",
      "10               2016            January              89              8   \n",
      "11               2016               July             194             56   \n",
      "12               2016               June             216             49   \n",
      "13               2016              March             248             56   \n",
      "14               2016                May             197             54   \n",
      "15               2016           November             187             29   \n",
      "16               2016            October             256             73   \n",
      "17               2016          September             208             59   \n",
      "18               2017              April             237             68   \n",
      "19               2017             August             181             70   \n",
      "20               2017           February             189             46   \n",
      "21               2017            January             151             39   \n",
      "22               2017               July             220             68   \n",
      "23               2017               June             226             71   \n",
      "24               2017              March             247             74   \n",
      "25               2017                May             284            102   \n",
      "\n",
      "    cancellation_rate (%)  \n",
      "0               22.656250  \n",
      "1               15.315315  \n",
      "2               28.440367  \n",
      "3               11.235955  \n",
      "4               12.650602  \n",
      "5               24.719101  \n",
      "6               28.846154  \n",
      "7               34.328358  \n",
      "8               26.470588  \n",
      "9               19.047619  \n",
      "10               8.988764  \n",
      "11              28.865979  \n",
      "12              22.685185  \n",
      "13              22.580645  \n",
      "14              27.411168  \n",
      "15              15.508021  \n",
      "16              28.515625  \n",
      "17              28.365385  \n",
      "18              28.691983  \n",
      "19              38.674033  \n",
      "20              24.338624  \n",
      "21              25.827815  \n",
      "22              30.909091  \n",
      "23              31.415929  \n",
      "24              29.959514  \n",
      "25              35.915493  \n"
     ]
    }
   ],
   "source": [
    "df_cancel = df_structured.groupby(\n",
    "    [ \"arrival_date_year\", \"arrival_date_month\"]\n",
    ").agg(\n",
    "    total_bookings=('is_canceled', 'count'),\n",
    "    cancellations=('is_canceled', 'sum')\n",
    ").reset_index()\n",
    "\n",
    "df_cancel['cancellation_rate (%)'] = (df_cancel['cancellations'] / df_cancel['total_bookings']) * 100\n",
    "print(\"\\nCancellation Rate (by Country, Year, Month):\")\n",
    "print(df_cancel)"
   ]
  },
  {
   "cell_type": "code",
   "execution_count": 24,
   "metadata": {},
   "outputs": [
    {
     "data": {
      "text/html": [
       "<div>\n",
       "<style scoped>\n",
       "    .dataframe tbody tr th:only-of-type {\n",
       "        vertical-align: middle;\n",
       "    }\n",
       "\n",
       "    .dataframe tbody tr th {\n",
       "        vertical-align: top;\n",
       "    }\n",
       "\n",
       "    .dataframe thead th {\n",
       "        text-align: right;\n",
       "    }\n",
       "</style>\n",
       "<table border=\"1\" class=\"dataframe\">\n",
       "  <thead>\n",
       "    <tr style=\"text-align: right;\">\n",
       "      <th></th>\n",
       "      <th>arrival_date_year</th>\n",
       "      <th>arrival_date_month</th>\n",
       "      <th>total_bookings</th>\n",
       "      <th>cancellations</th>\n",
       "      <th>cancellation_rate (%)</th>\n",
       "    </tr>\n",
       "  </thead>\n",
       "  <tbody>\n",
       "    <tr>\n",
       "      <th>0</th>\n",
       "      <td>2015</td>\n",
       "      <td>August</td>\n",
       "      <td>128</td>\n",
       "      <td>29</td>\n",
       "      <td>22.656250</td>\n",
       "    </tr>\n",
       "    <tr>\n",
       "      <th>1</th>\n",
       "      <td>2015</td>\n",
       "      <td>December</td>\n",
       "      <td>111</td>\n",
       "      <td>17</td>\n",
       "      <td>15.315315</td>\n",
       "    </tr>\n",
       "    <tr>\n",
       "      <th>2</th>\n",
       "      <td>2015</td>\n",
       "      <td>July</td>\n",
       "      <td>109</td>\n",
       "      <td>31</td>\n",
       "      <td>28.440367</td>\n",
       "    </tr>\n",
       "    <tr>\n",
       "      <th>3</th>\n",
       "      <td>2015</td>\n",
       "      <td>November</td>\n",
       "      <td>89</td>\n",
       "      <td>10</td>\n",
       "      <td>11.235955</td>\n",
       "    </tr>\n",
       "    <tr>\n",
       "      <th>4</th>\n",
       "      <td>2015</td>\n",
       "      <td>October</td>\n",
       "      <td>166</td>\n",
       "      <td>21</td>\n",
       "      <td>12.650602</td>\n",
       "    </tr>\n",
       "    <tr>\n",
       "      <th>5</th>\n",
       "      <td>2015</td>\n",
       "      <td>September</td>\n",
       "      <td>178</td>\n",
       "      <td>44</td>\n",
       "      <td>24.719101</td>\n",
       "    </tr>\n",
       "    <tr>\n",
       "      <th>6</th>\n",
       "      <td>2016</td>\n",
       "      <td>April</td>\n",
       "      <td>208</td>\n",
       "      <td>60</td>\n",
       "      <td>28.846154</td>\n",
       "    </tr>\n",
       "    <tr>\n",
       "      <th>7</th>\n",
       "      <td>2016</td>\n",
       "      <td>August</td>\n",
       "      <td>201</td>\n",
       "      <td>69</td>\n",
       "      <td>34.328358</td>\n",
       "    </tr>\n",
       "    <tr>\n",
       "      <th>8</th>\n",
       "      <td>2016</td>\n",
       "      <td>December</td>\n",
       "      <td>170</td>\n",
       "      <td>45</td>\n",
       "      <td>26.470588</td>\n",
       "    </tr>\n",
       "    <tr>\n",
       "      <th>9</th>\n",
       "      <td>2016</td>\n",
       "      <td>February</td>\n",
       "      <td>168</td>\n",
       "      <td>32</td>\n",
       "      <td>19.047619</td>\n",
       "    </tr>\n",
       "  </tbody>\n",
       "</table>\n",
       "</div>"
      ],
      "text/plain": [
       "   arrival_date_year arrival_date_month  total_bookings  cancellations  \\\n",
       "0               2015             August             128             29   \n",
       "1               2015           December             111             17   \n",
       "2               2015               July             109             31   \n",
       "3               2015           November              89             10   \n",
       "4               2015            October             166             21   \n",
       "5               2015          September             178             44   \n",
       "6               2016              April             208             60   \n",
       "7               2016             August             201             69   \n",
       "8               2016           December             170             45   \n",
       "9               2016           February             168             32   \n",
       "\n",
       "   cancellation_rate (%)  \n",
       "0              22.656250  \n",
       "1              15.315315  \n",
       "2              28.440367  \n",
       "3              11.235955  \n",
       "4              12.650602  \n",
       "5              24.719101  \n",
       "6              28.846154  \n",
       "7              34.328358  \n",
       "8              26.470588  \n",
       "9              19.047619  "
      ]
     },
     "execution_count": 24,
     "metadata": {},
     "output_type": "execute_result"
    }
   ],
   "source": [
    "df_cancel.head(10)"
   ]
  },
  {
   "cell_type": "code",
   "execution_count": null,
   "metadata": {},
   "outputs": [
    {
     "name": "stdout",
     "output_type": "stream",
     "text": [
      "\n",
      "Top 10 Countries by Booking Count:\n",
      "  country  booking_count\n",
      "0     PRT           1547\n",
      "1     FRA            547\n",
      "2     GBR            524\n",
      "3     ESP            405\n",
      "4     DEU            299\n",
      "5     ITA            166\n",
      "6     IRL            165\n",
      "7     NLD            119\n",
      "8     BRA            112\n",
      "9     BEL            111\n"
     ]
    }
   ],
   "source": [
    "df_geography = df_structured['country'].value_counts().reset_index()\n",
    "df_geography.columns = ['country', 'booking_count']\n",
    "df_geography = df_geography.head(10)\n",
    "print(\"\\nTop 10 Countries by Booking Count:\")\n",
    "print(df_geography)"
   ]
  },
  {
   "cell_type": "code",
   "execution_count": null,
   "metadata": {},
   "outputs": [
    {
     "name": "stdout",
     "output_type": "stream",
     "text": [
      "\n",
      "Average Booking Lead Time (by Country, Year, Month):\n",
      "    arrival_date_year arrival_date_month  avg_lead_time\n",
      "0                2015             August      56.109375\n",
      "1                2015           December      33.729730\n",
      "2                2015               July      65.266055\n",
      "3                2015           November      33.000000\n",
      "4                2015            October      38.078313\n",
      "5                2015          September      52.269663\n",
      "6                2016              April      56.432692\n",
      "7                2016             August     104.064677\n",
      "8                2016           December      56.041176\n",
      "9                2016           February      24.880952\n",
      "10               2016            January      22.471910\n",
      "11               2016               July      97.860825\n",
      "12               2016               June      82.277778\n",
      "13               2016              March      44.145161\n",
      "14               2016                May      70.472081\n",
      "15               2016           November      45.352941\n",
      "16               2016            October      85.949219\n",
      "17               2016          September      90.677885\n",
      "18               2017              April      89.810127\n",
      "19               2017             August     105.966851\n",
      "20               2017           February      31.349206\n",
      "21               2017            January      29.894040\n",
      "22               2017               July      99.381818\n",
      "23               2017               June      96.831858\n",
      "24               2017              March      55.704453\n",
      "25               2017                May      88.901408\n"
     ]
    }
   ],
   "source": [
    "df_leadtime = df_structured.groupby(\n",
    "    [\"arrival_date_year\", \"arrival_date_month\"]\n",
    ")['lead_time'].mean().reset_index().rename(columns={'lead_time': 'avg_lead_time'})\n",
    "\n",
    "print(\"\\nAverage Booking Lead Time (by Year, Month):\")\n",
    "print(df_leadtime)"
   ]
  },
  {
   "cell_type": "code",
   "execution_count": null,
   "metadata": {},
   "outputs": [
    {
     "name": "stdout",
     "output_type": "stream",
     "text": [
      "\n",
      "ADR Distribution by Hotel Type:\n",
      "          hotel   count        mean        std   min   25%      50%       75%  \\\n",
      "0    City Hotel  3108.0  109.481088  37.818456  0.00  85.0  105.795  131.7125   \n",
      "1  Resort Hotel  1750.0   88.542806  50.687964 -6.38  48.0   75.275  121.6275   \n",
      "\n",
      "     max  \n",
      "0  217.0  \n",
      "1  217.0  \n"
     ]
    }
   ],
   "source": [
    "df_adr = df_structured.groupby(\"hotel\")['adr'].describe().reset_index()\n",
    "print(\"\\nADR Distribution by Hotel Type:\")\n",
    "print(df_adr)"
   ]
  },
  {
   "cell_type": "code",
   "execution_count": null,
   "metadata": {},
   "outputs": [
    {
     "name": "stdout",
     "output_type": "stream",
     "text": [
      "\n",
      "Average Stay Duration by Hotel Type:\n",
      "          hotel  avg_stay\n",
      "0    City Hotel  3.055985\n",
      "1  Resort Hotel  3.585143\n"
     ]
    }
   ],
   "source": [
    "df_structured['total_stay'] = df_structured['stays_in_week_nights'] + df_structured['stays_in_weekend_nights']\n",
    "\n",
    "df_avg_stay = df_structured.groupby(\"hotel\")['total_stay'].mean().reset_index().rename(columns={'total_stay': 'avg_stay'})\n",
    "print(\"\\nAverage Stay Duration by Hotel Type:\")\n",
    "print(df_avg_stay)"
   ]
  },
  {
   "cell_type": "code",
   "execution_count": null,
   "metadata": {},
   "outputs": [],
   "source": []
  }
 ],
 "metadata": {
  "kernelspec": {
   "display_name": "hotel-env",
   "language": "python",
   "name": "python3"
  },
  "language_info": {
   "codemirror_mode": {
    "name": "ipython",
    "version": 3
   },
   "file_extension": ".py",
   "mimetype": "text/x-python",
   "name": "python",
   "nbconvert_exporter": "python",
   "pygments_lexer": "ipython3",
   "version": "3.10.6"
  }
 },
 "nbformat": 4,
 "nbformat_minor": 2
}
